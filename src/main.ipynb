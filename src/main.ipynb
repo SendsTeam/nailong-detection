{
 "cells": [
  {
   "cell_type": "markdown",
   "metadata": {},
   "source": [
    "# 基于Pytorch的深度学习奶龙图像检测应用"
   ]
  },
  {
   "cell_type": "markdown",
   "metadata": {},
   "source": [
    "## 引入依赖"
   ]
  },
  {
   "cell_type": "code",
   "execution_count": 2,
   "metadata": {},
   "outputs": [],
   "source": [
    "import os\n",
    "import matplotlib.pyplot as plt\n",
    "%matplotlib inline\n",
    "import numpy as np\n",
    "import torch\n",
    "from torch import nn\n",
    "import torch.optim as optim\n",
    "import torchvision\n",
    "from torchvision import datasets, transforms, models\n",
    "import imageio\n",
    "import time\n",
    "import warnings\n",
    "warnings.filterwarnings(\"ignore\")\n",
    "import random\n",
    "import sys\n",
    "import copy\n",
    "import json\n",
    "from PIL import Image"
   ]
  },
  {
   "cell_type": "markdown",
   "metadata": {},
   "source": [
    "## 配置数据源"
   ]
  },
  {
   "cell_type": "code",
   "execution_count": 3,
   "metadata": {},
   "outputs": [],
   "source": [
    "\n",
    "data_transforms = {\n",
    "    # 组合训练集的数据集组件\n",
    "    'train':transforms.Compose([\n",
    "        transforms.Resize([96,96]), # 将用于训练的图像统一裁剪为96x96的大小，以适应模型输入\n",
    "        transforms.RandomRotation(45), # 随机旋转图像-45到45度\n",
    "        transforms.CenterCrop(64), # 从中心裁剪64x64的图像\n",
    "        # 数据增强，随机水平垂直翻转图像，提高模型的泛化能力\n",
    "        transforms.RandomHorizontalFlip(p=0.5), # 随机水平翻转图像\n",
    "        transforms.RandomVerticalFlip(p=0.5), # 随机垂直翻转图像\n",
    "        transforms.ColorJitter(brightness=0.2, contrast=0.1, saturation=0.1, hue=0.1), # 随机调整图像的亮度、对比度、饱和度和色调\n",
    "        transforms.RandomGrayscale(p=0.025) , # 随机将图像转换为灰度图像\n",
    "        transforms.ToTensor(), # 将图像转换为张量\n",
    "        transforms.Normalize([0.485, 0.456, 0.406], [0.229, 0.224, 0.225]) # 对图像进行归一化处理\n",
    "    ]),\n",
    "    # 组合验证集的数据集组件\n",
    "    'valid':transforms.Compose([\n",
    "        transforms.Resize([46,46]), # 将用于训练的图像统一裁剪为46x46的大小，以适应模型输入\n",
    "        transforms.ToTensor(), # 将图像转换为张量\n",
    "        transforms.Normalize([0.485, 0.456, 0.406], [0.229, 0.224, 0.225]) # 对图像进行归一化处理\n",
    "    ]),\n",
    "}"
   ]
  }
 ],
 "metadata": {
  "kernelspec": {
   "display_name": "venv",
   "language": "python",
   "name": "python3"
  },
  "language_info": {
   "codemirror_mode": {
    "name": "ipython",
    "version": 3
   },
   "file_extension": ".py",
   "mimetype": "text/x-python",
   "name": "python",
   "nbconvert_exporter": "python",
   "pygments_lexer": "ipython3",
   "version": "3.12.0"
  }
 },
 "nbformat": 4,
 "nbformat_minor": 2
}
